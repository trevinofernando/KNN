{
  "nbformat": 4,
  "nbformat_minor": 0,
  "metadata": {
    "colab": {
      "name": "KNN.ipynb",
      "provenance": [],
      "collapsed_sections": [],
      "authorship_tag": "ABX9TyPp9B/S+oGQXUYt0VugUmD0",
      "include_colab_link": true
    },
    "kernelspec": {
      "name": "python3",
      "display_name": "Python 3"
    },
    "language_info": {
      "name": "python"
    }
  },
  "cells": [
    {
      "cell_type": "markdown",
      "metadata": {
        "id": "view-in-github",
        "colab_type": "text"
      },
      "source": [
        "<a href=\"https://colab.research.google.com/github/trevinofernando/KNN/blob/main/KNN.ipynb\" target=\"_parent\"><img src=\"https://colab.research.google.com/assets/colab-badge.svg\" alt=\"Open In Colab\"/></a>"
      ]
    },
    {
      "cell_type": "code",
      "metadata": {
        "colab": {
          "base_uri": "https://localhost:8080/"
        },
        "id": "sYuS-DSrmPzK",
        "outputId": "e9878c82-69af-47b4-a629-6d0a68db0f62"
      },
      "source": [
        "from sklearn.metrics import confusion_matrix, accuracy_score\n",
        "from sklearn import datasets, neighbors, linear_model\n",
        "from sklearn.model_selection import train_test_split\n",
        "from sklearn.datasets import load_digits\n",
        "import matplotlib.pyplot as plt\n",
        "from random import randrange\n",
        "from scipy import stats\n",
        "import numpy as np\n",
        "import random\n",
        "\n",
        "#load the digits dataset\n",
        "digits = load_digits()\n",
        "print(digits.data.shape)"
      ],
      "execution_count": 10,
      "outputs": [
        {
          "output_type": "stream",
          "name": "stdout",
          "text": [
            "(1797, 64)\n"
          ]
        }
      ]
    },
    {
      "cell_type": "code",
      "metadata": {
        "colab": {
          "base_uri": "https://localhost:8080/",
          "height": 1000
        },
        "id": "Cmf5SHs3mtHQ",
        "outputId": "c012bf3b-3950-4099-c372-f229355f81ae"
      },
      "source": [
        "#let's take a look at how some digits look\n",
        "for img in range(10):\n",
        "  plt.gray()\n",
        "  plt.matshow(digits.images[img])\n",
        "  plt.title(\"Digit {0}\".format(digits.target[img]))\n",
        "  plt.show()"
      ],
      "execution_count": 11,
      "outputs": [
        {
          "output_type": "display_data",
          "data": {
            "text/plain": [
              "<Figure size 432x288 with 0 Axes>"
            ]
          },
          "metadata": {}
        },
        {
          "output_type": "display_data",
          "data": {
            "image/png": "[encoded data removed]",
            "text/plain": [
              "<Figure size 288x288 with 1 Axes>"
            ]
          },
          "metadata": {
            "needs_background": "light"
          }
        },
        {
          "output_type": "display_data",
          "data": {
            "text/plain": [
              "<Figure size 432x288 with 0 Axes>"
            ]
          },
          "metadata": {}
        },
        {
          "output_type": "display_data",
          "data": {
            "image/png": "[encoded data removed]",
            "text/plain": [
              "<Figure size 288x288 with 1 Axes>"
            ]
          },
          "metadata": {
            "needs_background": "light"
          }
        },
        {
          "output_type": "display_data",
          "data": {
            "text/plain": [
              "<Figure size 432x288 with 0 Axes>"
            ]
          },
          "metadata": {}
        },
        {
          "output_type": "display_data",
          "data": {
            "image/png": "[encoded data removed]",
            "text/plain": [
              "<Figure size 288x288 with 1 Axes>"
            ]
          },
          "metadata": {
            "needs_background": "light"
          }
        },
        {
          "output_type": "display_data",
          "data": {
            "text/plain": [
              "<Figure size 432x288 with 0 Axes>"
            ]
          },
          "metadata": {}
        },
        {
          "output_type": "display_data",
          "data": {
            "image/png": "[encoded data removed]",
            "text/plain": [
              "<Figure size 288x288 with 1 Axes>"
            ]
          },
          "metadata": {
            "needs_background": "light"
          }
        },
        {
          "output_type": "display_data",
          "data": {
            "text/plain": [
              "<Figure size 432x288 with 0 Axes>"
            ]
          },
          "metadata": {}
        },
        {
          "output_type": "display_data",
          "data": {
            "image/png": "[encoded data removed]",
            "text/plain": [
              "<Figure size 288x288 with 1 Axes>"
            ]
          },
          "metadata": {
            "needs_background": "light"
          }
        },
        {
          "output_type": "display_data",
          "data": {
            "text/plain": [
              "<Figure size 432x288 with 0 Axes>"
            ]
          },
          "metadata": {}
        },
        {
          "output_type": "display_data",
          "data": {
            "image/png": "[encoded data removed]",
            "text/plain": [
              "<Figure size 288x288 with 1 Axes>"
            ]
          },
          "metadata": {
            "needs_background": "light"
          }
        },
        {
          "output_type": "display_data",
          "data": {
            "text/plain": [
              "<Figure size 432x288 with 0 Axes>"
            ]
          },
          "metadata": {}
        },
        {
          "output_type": "display_data",
          "data": {
            "image/png": "[encoded data removed]",
            "text/plain": [
              "<Figure size 288x288 with 1 Axes>"
            ]
          },
          "metadata": {
            "needs_background": "light"
          }
        },
        {
          "output_type": "display_data",
          "data": {
            "text/plain": [
              "<Figure size 432x288 with 0 Axes>"
            ]
          },
          "metadata": {}
        },
        {
          "output_type": "display_data",
          "data": {
            "image/png": "[encoded data removed]",
            "text/plain": [
              "<Figure size 288x288 with 1 Axes>"
            ]
          },
          "metadata": {
            "needs_background": "light"
          }
        },
        {
          "output_type": "display_data",
          "data": {
            "text/plain": [
              "<Figure size 432x288 with 0 Axes>"
            ]
          },
          "metadata": {}
        },
        {
          "output_type": "display_data",
          "data": {
            "image/png": "[encoded data removed]",
            "text/plain": [
              "<Figure size 288x288 with 1 Axes>"
            ]
          },
          "metadata": {
            "needs_background": "light"
          }
        },
        {
          "output_type": "display_data",
          "data": {
            "text/plain": [
              "<Figure size 432x288 with 0 Axes>"
            ]
          },
          "metadata": {}
        },
        {
          "output_type": "display_data",
          "data": {
            "image/png": "[encoded data removed]",
            "text/plain": [
              "<Figure size 288x288 with 1 Axes>"
            ]
          },
          "metadata": {
            "needs_background": "light"
          }
        }
      ]
    },
    {
      "cell_type": "code",
      "metadata": {
        "id": "QBqQvXg-oA9_",
        "colab": {
          "base_uri": "https://localhost:8080/"
        },
        "outputId": "cc6069e0-5e21-46cf-f593-9607d8a86982"
      },
      "source": [
        "# prepare datasets from training and for validation\n",
        "#These arrays will contain all images labeled wit at X at index X\n",
        "x_train_ordered = [0] * digits.target_names.size\n",
        "y_train_ordered = [0] * digits.target_names.size\n",
        "x_test_ordered =  [0] * digits.target_names.size\n",
        "y_test_ordered =  [0] * digits.target_names.size\n",
        "#These lists will have the final shuffled dataset with 500 samples for testing\n",
        "x_train = []\n",
        "y_train = []\n",
        "x_test  = []\n",
        "y_test  = []\n",
        "\n",
        "firstLoop = True\n",
        "for label in digits.target_names:\n",
        "  (indexesOfDigitsWithLabel, ) = np.where(digits.target == label)\n",
        "  print(\"There are {0} digits with label {1}\".format((indexesOfDigitsWithLabel.size), label))\n",
        "  \n",
        "  #Randomize \n",
        "  random.shuffle(indexesOfDigitsWithLabel)\n",
        "  #split the dataset in train, 50 samples of each label, and the rest for testing\n",
        "  x_train_ordered[label] = digits.data  [indexesOfDigitsWithLabel[:-50]]\n",
        "  y_train_ordered[label] = digits.target  [indexesOfDigitsWithLabel[:-50]]\n",
        "  x_test_ordered[label]  = digits.data[indexesOfDigitsWithLabel[-50:]]\n",
        "  y_test_ordered[label]  = digits.target[indexesOfDigitsWithLabel[-50:]]\n",
        "  \n",
        "  #Set list to array in the first iteratino, then concatenate the rest\n",
        "  if(firstLoop):\n",
        "    firstLoop = False\n",
        "    x_train = x_train_ordered[label]\n",
        "    y_train = y_train_ordered[label]\n",
        "    x_test  = x_test_ordered[label]\n",
        "    y_test  = y_test_ordered[label]\n",
        "  else:\n",
        "    x_train = np.concatenate((x_train, x_train_ordered[label]),axis=0)\n",
        "    y_train = np.concatenate((y_train, y_train_ordered[label]),axis=0)\n",
        "    x_test  = np.concatenate((x_test, x_test_ordered[label]),axis=0)\n",
        "    y_test  = np.concatenate((y_test, y_test_ordered[label]),axis=0)\n",
        "\n",
        "  print(\"--->from which {0} will be used for x_train\".format(len(x_train_ordered[label])))\n",
        "  print(\"--->from which {0} will be used for y_train\".format(len(y_train_ordered[label])))\n",
        "  print(\"--->from which {0} will be used for x_test\".format(len(x_test_ordered[label])))\n",
        "  print(\"--->from which {0} will be used for y_test\".format(len(y_test_ordered[label])))\n",
        "\n",
        "#turn into numpy arrays\n",
        "x_train = np.array(x_train)\n",
        "y_train = np.array(y_train)\n",
        "x_test  = np.array(x_test)\n",
        "y_test  = np.array(y_test)"
      ],
      "execution_count": 12,
      "outputs": [
        {
          "output_type": "stream",
          "name": "stdout",
          "text": [
            "There are 178 digits with label 0\n",
            "--->from which 128 will be used for x_train\n",
            "--->from which 128 will be used for y_train\n",
            "--->from which 50 will be used for x_test\n",
            "--->from which 50 will be used for y_test\n",
            "There are 182 digits with label 1\n",
            "--->from which 132 will be used for x_train\n",
            "--->from which 132 will be used for y_train\n",
            "--->from which 50 will be used for x_test\n",
            "--->from which 50 will be used for y_test\n",
            "There are 177 digits with label 2\n",
            "--->from which 127 will be used for x_train\n",
            "--->from which 127 will be used for y_train\n",
            "--->from which 50 will be used for x_test\n",
            "--->from which 50 will be used for y_test\n",
            "There are 183 digits with label 3\n",
            "--->from which 133 will be used for x_train\n",
            "--->from which 133 will be used for y_train\n",
            "--->from which 50 will be used for x_test\n",
            "--->from which 50 will be used for y_test\n",
            "There are 181 digits with label 4\n",
            "--->from which 131 will be used for x_train\n",
            "--->from which 131 will be used for y_train\n",
            "--->from which 50 will be used for x_test\n",
            "--->from which 50 will be used for y_test\n",
            "There are 182 digits with label 5\n",
            "--->from which 132 will be used for x_train\n",
            "--->from which 132 will be used for y_train\n",
            "--->from which 50 will be used for x_test\n",
            "--->from which 50 will be used for y_test\n",
            "There are 181 digits with label 6\n",
            "--->from which 131 will be used for x_train\n",
            "--->from which 131 will be used for y_train\n",
            "--->from which 50 will be used for x_test\n",
            "--->from which 50 will be used for y_test\n",
            "There are 179 digits with label 7\n",
            "--->from which 129 will be used for x_train\n",
            "--->from which 129 will be used for y_train\n",
            "--->from which 50 will be used for x_test\n",
            "--->from which 50 will be used for y_test\n",
            "There are 174 digits with label 8\n",
            "--->from which 124 will be used for x_train\n",
            "--->from which 124 will be used for y_train\n",
            "--->from which 50 will be used for x_test\n",
            "--->from which 50 will be used for y_test\n",
            "There are 180 digits with label 9\n",
            "--->from which 130 will be used for x_train\n",
            "--->from which 130 will be used for y_train\n",
            "--->from which 50 will be used for x_test\n",
            "--->from which 50 will be used for y_test\n"
          ]
        }
      ]
    },
    {
      "cell_type": "code",
      "metadata": {
        "colab": {
          "base_uri": "https://localhost:8080/"
        },
        "id": "5EMpl-kVINJd",
        "outputId": "5549cc08-5186-48ce-a2ff-e574a4eb0203"
      },
      "source": [
        "#verify shape looks good\n",
        "print(x_train.shape)\n",
        "print(y_train.shape)\n",
        "print(x_test.shape)\n",
        "print(y_test.shape)"
      ],
      "execution_count": 13,
      "outputs": [
        {
          "output_type": "stream",
          "name": "stdout",
          "text": [
            "(1297, 64)\n",
            "(1297,)\n",
            "(500, 64)\n",
            "(500,)\n"
          ]
        }
      ]
    },
    {
      "cell_type": "code",
      "metadata": {
        "id": "dcVV9kse5V8v"
      },
      "source": [
        "def distance(a, b):\n",
        "  #Square root of the sum along the rows of the Square of the difference between a and b... magic, no touch!\n",
        "  #b needs to have the same row shape as a and b needs to be a vector\n",
        "  return np.sqrt(np.sum(np.multiply(np.subtract(a,b),np.subtract(a,b)), axis=1))"
      ],
      "execution_count": 14,
      "outputs": []
    },
    {
      "cell_type": "code",
      "metadata": {
        "id": "tmyOzfrL5c-W"
      },
      "source": [
        "#returns accuarcy on prediction of test data with train data\n",
        "def Find_Nearest_Neightbor(this_x_train, this_x_test, this_y_train, this_y_test, K):\n",
        "  accuarcy = 0.0\n",
        "  count = 0.0\n",
        "\n",
        "  #Get vector dimensions\n",
        "  rows_train, cols = this_x_train.shape\n",
        "  rows_test = this_y_test.size\n",
        "  \n",
        "   #special case for just testing 1 item\n",
        "  if(rows_test == 1):\n",
        "    this_x_test = [this_x_test]\n",
        "    this_y_test = [this_y_test]\n",
        "\n",
        "  for i in range(rows_test):\n",
        "    dist_train = distance(this_x_train, this_x_test[i]) #calcualte distance for each test row along all train points\n",
        "    indexes = np.argpartition(dist_train, K)[:K] #Get indexes of the K Nearest Neightbors\n",
        "    prediction = stats.mode(this_y_train[indexes])[0][0] #count votes from KNN and get the winner (mode)\n",
        "    if(prediction == this_y_test[i]):\n",
        "      count += 1.0\n",
        "  accuarcy = count / rows_test\n",
        "  if(rows_test == 1):\n",
        "    return prediction #special case for just testing 1 item\n",
        "  return accuarcy"
      ],
      "execution_count": 15,
      "outputs": []
    },
    {
      "cell_type": "code",
      "metadata": {
        "colab": {
          "base_uri": "https://localhost:8080/"
        },
        "id": "Xd7DeVcc5wFe",
        "outputId": "c9592f3b-c56d-4203-d18e-4b998c91998a"
      },
      "source": [
        "#Different k's to test\n",
        "ks = np.array([1,3,5,7])\n",
        "avgAcc = np.zeros(ks.size)\n",
        "accuracies = np.zeros(ks.size)\n",
        "\n",
        "#For each k\n",
        "for i in range(ks.size):\n",
        "  accuracies[i] = Find_Nearest_Neightbor(x_train, x_test, y_train, y_test, ks[i])\n",
        "  avgAcc[i] += accuracies[i]\n",
        "  print(\"Accuracy for {} Nearest Neightbors is {}\".format(ks[i], accuracies[i]))\n"
      ],
      "execution_count": 16,
      "outputs": [
        {
          "output_type": "stream",
          "name": "stdout",
          "text": [
            "Accuracy for 1 Nearest Neightbors is 0.982\n",
            "Accuracy for 3 Nearest Neightbors is 0.978\n",
            "Accuracy for 5 Nearest Neightbors is 0.982\n",
            "Accuracy for 7 Nearest Neightbors is 0.98\n"
          ]
        }
      ]
    },
    {
      "cell_type": "code",
      "metadata": {
        "colab": {
          "base_uri": "https://localhost:8080/"
        },
        "id": "BMMR2k5vT80t",
        "outputId": "ec7157d5-2154-4e59-da9c-1ef096031439"
      },
      "source": [
        "#Different k's to test\n",
        "ks = np.array([1,3,5,7])\n",
        "result = [\"FAIL\", \"PASS\"]\n",
        "\n",
        "#just some more visuals to confirm predictions look good\n",
        "for K in range(ks.size):\n",
        "  for i in range(5):\n",
        "    sample = randrange(y_test.size)\n",
        "    pred = Find_Nearest_Neightbor(x_train, x_test[sample], y_train, y_test[sample], ks[K])\n",
        "    print(\"For digit at index {0} with label '{1}', KNN with K={2} predicted: '{3}'.--> {4}\".format(sample, y_test[sample], ks[K], pred, result[pred==y_test[sample]]))"
      ],
      "execution_count": 30,
      "outputs": [
        {
          "output_type": "stream",
          "name": "stdout",
          "text": [
            "For digit at index 125 with label '2', KNN with K=1 predicted: '2'.--> PASS\n",
            "For digit at index 265 with label '5', KNN with K=1 predicted: '5'.--> PASS\n",
            "For digit at index 296 with label '5', KNN with K=1 predicted: '5'.--> PASS\n",
            "For digit at index 301 with label '6', KNN with K=1 predicted: '6'.--> PASS\n",
            "For digit at index 311 with label '6', KNN with K=1 predicted: '6'.--> PASS\n",
            "For digit at index 343 with label '6', KNN with K=3 predicted: '6'.--> PASS\n",
            "For digit at index 11 with label '0', KNN with K=3 predicted: '0'.--> PASS\n",
            "For digit at index 275 with label '5', KNN with K=3 predicted: '5'.--> PASS\n",
            "For digit at index 214 with label '4', KNN with K=3 predicted: '4'.--> PASS\n",
            "For digit at index 405 with label '8', KNN with K=3 predicted: '5'.--> FAIL\n",
            "For digit at index 143 with label '2', KNN with K=5 predicted: '2'.--> PASS\n",
            "For digit at index 437 with label '8', KNN with K=5 predicted: '8'.--> PASS\n",
            "For digit at index 393 with label '7', KNN with K=5 predicted: '7'.--> PASS\n",
            "For digit at index 454 with label '9', KNN with K=5 predicted: '9'.--> PASS\n",
            "For digit at index 2 with label '0', KNN with K=5 predicted: '0'.--> PASS\n",
            "For digit at index 11 with label '0', KNN with K=7 predicted: '0'.--> PASS\n",
            "For digit at index 266 with label '5', KNN with K=7 predicted: '5'.--> PASS\n",
            "For digit at index 422 with label '8', KNN with K=7 predicted: '8'.--> PASS\n",
            "For digit at index 200 with label '4', KNN with K=7 predicted: '4'.--> PASS\n",
            "For digit at index 315 with label '6', KNN with K=7 predicted: '6'.--> PASS\n"
          ]
        },
        {
          "output_type": "stream",
          "name": "stderr",
          "text": [
            "/usr/local/lib/python3.7/dist-packages/ipykernel_launcher.py:10: DeprecationWarning: In future, it will be an error for 'np.bool_' scalars to be interpreted as an index\n",
            "  # Remove the CWD from sys.path while we load stuff.\n"
          ]
        }
      ]
    }
  ]
}